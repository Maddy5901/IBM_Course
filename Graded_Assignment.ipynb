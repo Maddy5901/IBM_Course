{
 "cells": [
  {
   "cell_type": "markdown",
   "id": "d212d5d2-524a-49a9-8206-bbdc56faab11",
   "metadata": {},
   "source": [
    "# My Jupyter Notebook on IBM Watson Studio"
   ]
  },
  {
   "cell_type": "markdown",
   "id": "9c2ce434-611a-4a21-a8d6-39fd7df891b2",
   "metadata": {},
   "source": [
    "**Abhishek Madisetty**"
   ]
  },
  {
   "cell_type": "markdown",
   "id": "0408e7c6-b905-4dff-9925-10c6b9c5d877",
   "metadata": {},
   "source": [
    "*I am interested in data science because it is the next big thing and has generated countless work possibilities.*"
   ]
  },
  {
   "cell_type": "markdown",
   "id": "f20337cb-66a2-4ef4-8e4c-f8c224c45fda",
   "metadata": {},
   "source": [
    "### The Below Cell Should Print 'Hello World'"
   ]
  },
  {
   "cell_type": "code",
   "execution_count": 2,
   "id": "722e69ab-2df5-4aca-8dad-b5a7e48664a2",
   "metadata": {},
   "outputs": [
    {
     "name": "stdout",
     "output_type": "stream",
     "text": [
      "Hello World!\n"
     ]
    }
   ],
   "source": [
    "print(\"Hello World!\")"
   ]
  },
  {
   "cell_type": "markdown",
   "id": "ac9d0d2b-efc8-49f8-9919-fcdfcf4b27f6",
   "metadata": {},
   "source": [
    "> Argentina Won The World Cup!\n",
    "\n",
    "1. First item\n",
    "2. Second item\n",
    "3. Third item\n",
    "    - Indented item\n",
    "    - Indented item\n",
    "4. Fourth item"
   ]
  },
  {
   "cell_type": "code",
   "execution_count": null,
   "id": "06a209fe-2707-4ed7-8711-d28f1bd8feff",
   "metadata": {},
   "outputs": [],
   "source": []
  }
 ],
 "metadata": {
  "kernelspec": {
   "display_name": "Python",
   "language": "python",
   "name": "conda-env-python-py"
  },
  "language_info": {
   "codemirror_mode": {
    "name": "ipython",
    "version": 3
   },
   "file_extension": ".py",
   "mimetype": "text/x-python",
   "name": "python",
   "nbconvert_exporter": "python",
   "pygments_lexer": "ipython3",
   "version": "3.7.12"
  }
 },
 "nbformat": 4,
 "nbformat_minor": 5
}
